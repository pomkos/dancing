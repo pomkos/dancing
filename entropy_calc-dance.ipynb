{
 "cells": [
  {
   "cell_type": "markdown",
   "metadata": {},
   "source": [
    "# Dance Entropy"
   ]
  },
  {
   "cell_type": "markdown",
   "metadata": {},
   "source": [
    "## Imports and Variables"
   ]
  },
  {
   "cell_type": "code",
   "execution_count": 359,
   "metadata": {},
   "outputs": [],
   "source": [
    "import pandas as pd\n",
    "from scipy.stats import zscore # normalize data. Not used.\n",
    "import scipy.signal as signal\n",
    "import matplotlib.pyplot as plt\n",
    "import numpy as np\n",
    "import sampen\n",
    "import glob\n",
    "import os\n",
    "\n",
    "from sampen import sampen2\n",
    "    # https://github.com/bergantine/sampen/\n",
    "from pyentrp import entropy as ent\n",
    "    # https://github.com/nikdon/pyEntropy \n",
    "    \n",
    "import sys\n",
    "sys.path.insert(0, 'C:\\\\Users\\\\albei\\\\entropy\\\\')\n",
    "from entropy import *\n",
    "    # https://github.com/raphaelvallat/entropy"
   ]
  },
  {
   "cell_type": "code",
   "execution_count": 360,
   "metadata": {},
   "outputs": [],
   "source": [
    "variable = \"Joint\"\n",
    "path = 'output\\\\'+variable\n",
    "all_xlsx = glob.glob(os.path.join(path, \"*.xlsx\"))  # make a list of paths\n",
    "shape = len(all_xlsx)"
   ]
  },
  {
   "cell_type": "markdown",
   "metadata": {},
   "source": [
    "## CSV Converter"
   ]
  },
  {
   "cell_type": "code",
   "execution_count": 362,
   "metadata": {},
   "outputs": [
    {
     "name": "stdout",
     "output_type": "stream",
     "text": [
      "|| 1 / 11  FINISHED! ||  2018-07-14-12-32_pddance001_Tango - Part 2 (harder)\n",
      "|| 2 / 11  FINISHED! ||  2018-08-11-11-48_pddance002_rumba1\n",
      "|| 3 / 11  FINISHED! ||  2018-08-11-11-55_pddance002_line\n",
      "|| 4 / 11  FINISHED! ||  2018-08-11-12-03_pddance002_foxtrot1\n",
      "|| 5 / 11  FINISHED! ||  2018-08-11-12-08_pddance002_foxtrot2\n",
      "|| 6 / 11  FINISHED! ||  2018-08-11-12-13_pddance002_waltzprogressive\n",
      "|| 7 / 11  FINISHED! ||  2018-08-11-12-19_pddance002_tango1\n",
      "|| 8 / 11  FINISHED! ||  2018-08-11-12-20_pddance002_tango2\n",
      "|| 9 / 11  FINISHED! ||  2018-08-11-12-30_pddance002_sidetango\n",
      "|| 10 / 11  FINISHED! ||  2018-10-13-12-11_pddance003_American Tango\n",
      "|| 11 / 11  FINISHED! ||  2018-10-13-12-26_pddance003_Tango and Corte\n"
     ]
    }
   ],
   "source": [
    "all_csv = glob.glob(os.path.join(path, \"*.csv\"))  # make a list of paths\n",
    "all_csv\n",
    "i = 0\n",
    "shape = len(all_csv)\n",
    "\n",
    "for files in all_csv:\n",
    "  dir_path = os.path.dirname(os.path.realpath(files)) # get the csv file's current directory\n",
    "  csv_file = os.path.splitext(os.path.basename(files))[0]  # get file name without extension\n",
    "  xlsx_file = dir_path + \"\\\\\"+ csv_file + \".xlsx\" # save csv file in current directory\n",
    "  pd.read_csv(files, delimiter= \",\").to_excel(xlsx_file, index=False)\n",
    "  i = i + 1\n",
    "  print(\"||\",i, \"/\", shape, \" FINISHED! || \", csv_file)\n"
   ]
  },
  {
   "cell_type": "markdown",
   "metadata": {},
   "source": [
    "## Calculate Approximate Entropy using EntroPy"
   ]
  },
  {
   "cell_type": "markdown",
   "metadata": {},
   "source": [
    "* perm_entropy(x, order=3, normalize=True)                 # Permutation entropy\n",
    "* spectral_entropy(x, 100, method='welch', normalize=True) # Spectral entropy\n",
    "* svd_entropy(x, order=3, delay=1, normalize=True)         # Singular value decomposition entropy\n",
    "* app_entropy(x, order=2, metric='chebyshev')              # Approximate entropy\n",
    "* sample_entropy(x, order=2, metric='chebyshev')           # Sample entropy\n",
    "* lziv_complexity('01111000011001', normalize=True)        # Lempel-Ziv complexity\n"
   ]
  },
  {
   "cell_type": "code",
   "execution_count": 353,
   "metadata": {},
   "outputs": [],
   "source": [
    "def dance_appen_calc(all_xlsx):\n",
    "    ''' Calculates the approximate entropy for acceleration vectors only. No zscore.\n",
    "    \n",
    "    Function to calculate entropy for all files in a list, \n",
    "    save it as a dictionary, convert to a dataframe, and format it for easy reading.\n",
    "    Designed for KinesiaONE tremor raw data\n",
    "    \n",
    "    appen_calc(file_list)\n",
    "    '''\n",
    "    i = 0\n",
    "    output = variable + \"_appen_dance.xlsx\"\n",
    "    file_dict = {}\n",
    "    for file in all_xlsx:\n",
    "        i = i + 1\n",
    "        df = pd.read_excel(file)\n",
    "        df = df.apply(zscore) # normalize data by getting zscores\n",
    "        filename = file.split(sep='\\\\')[-1].split(sep=\".\")[0] # get the filename\n",
    "        datetime = filename.split(\"_\")[0]\n",
    "        participant = filename.split(sep=\"_\")[1]\n",
    "        dance = filename.split(sep=\"_\")[2]\n",
    "        cols = df.columns\n",
    "        apen_dict = {}\n",
    "        apen_dict['participant'] = participant\n",
    "        apen_dict[\"date\"] = datetime\n",
    "        apen_dict[\"dance\"] = dance\n",
    "        for col in cols:\n",
    "            apen = app_entropy(np.array(df[col]), order=2, metric='chebyshev')\n",
    "            apen_dict[col] = apen\n",
    "        file_dict[filename] = apen_dict\n",
    "        print('||', i, \"/\", shape, \"Finished! || \", filename)\n",
    "    apen_df = pd.DataFrame(file_dict).reset_index()\n",
    "    #apen_df = apen_df.sort_values(\"index\").pivot_table(columns=\"index\", aggfunc=\"first\")\n",
    "    #apen_df['date'] = pd.to_datetime(apen_df['date'], format='%Y-%m-%d-%H-%M')\n",
    "    #apen_df = apen_df.reindex(columns = sorted(joint_apen.columns,reverse=True)).reset_index()\n",
    "    #apen_df.to_excel(output, index=False)\n",
    "    return apen_df"
   ]
  },
  {
   "cell_type": "code",
   "execution_count": 354,
   "metadata": {},
   "outputs": [
    {
     "name": "stdout",
     "output_type": "stream",
     "text": [
      "|| 1 / 9 Finished! ||  2018-07-14-12-32_pddance001_Tango - Part 2 (harder)\n",
      "|| 2 / 9 Finished! ||  2018-08-11-11-48_pddance002_rumba1\n",
      "|| 3 / 9 Finished! ||  2018-08-11-11-55_pddance002_line\n",
      "|| 4 / 9 Finished! ||  2018-08-11-12-03_pddance002_foxtrot1\n",
      "|| 5 / 9 Finished! ||  2018-08-11-12-08_pddance002_foxtrot2\n",
      "|| 6 / 9 Finished! ||  2018-08-11-12-13_pddance002_waltzprogressive\n",
      "|| 7 / 9 Finished! ||  2018-08-11-12-19_pddance002_tango1\n",
      "|| 8 / 9 Finished! ||  2018-08-11-12-20_pddance002_tango2\n",
      "|| 9 / 9 Finished! ||  2018-08-11-12-30_pddance002_sidetango\n"
     ]
    }
   ],
   "source": [
    "joint_apen = dance_appen_calc(all_xlsx)"
   ]
  },
  {
   "cell_type": "code",
   "execution_count": 358,
   "metadata": {},
   "outputs": [],
   "source": [
    "joint_apen.to_excel(\"Course_appen_dance.xlsx\",index=False)"
   ]
  },
  {
   "cell_type": "code",
   "execution_count": null,
   "metadata": {},
   "outputs": [],
   "source": []
  }
 ],
 "metadata": {
  "kernelspec": {
   "display_name": "Python 3",
   "language": "python",
   "name": "python3"
  },
  "language_info": {
   "codemirror_mode": {
    "name": "ipython",
    "version": 3
   },
   "file_extension": ".py",
   "mimetype": "text/x-python",
   "name": "python",
   "nbconvert_exporter": "python",
   "pygments_lexer": "ipython3",
   "version": "3.6.8"
  }
 },
 "nbformat": 4,
 "nbformat_minor": 4
}
